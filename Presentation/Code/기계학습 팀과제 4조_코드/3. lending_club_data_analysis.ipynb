{
 "cells": [
  {
   "cell_type": "code",
   "execution_count": 121,
   "metadata": {},
   "outputs": [],
   "source": [
    "import numpy as np\n",
    "import pandas as pd\n",
    "import sklearn as skl\n",
    "from sklearn.model_selection import train_test_split\n",
    "from sklearn.preprocessing import StandardScaler\n",
    "from sklearn.pipeline import make_pipeline\n",
    "\n",
    "##모델\n",
    "from sklearn.tree import DecisionTreeClassifier\n",
    "from sklearn.ensemble import RandomForestClassifier\n",
    "from sklearn.ensemble import BaggingClassifier\n",
    "from sklearn.neighbors import KNeighborsClassifier\n",
    "from sklearn.ensemble import AdaBoostClassifier\n",
    "from sklearn.svm import LinearSVC\n",
    "from sklearn.svm import SVC\n",
    "from sklearn.linear_model import Lasso, Ridge, ElasticNet, LinearRegression\n",
    "from sklearn.linear_model import Perceptron\n",
    "\n",
    "\n",
    "\n",
    "##시각화\n",
    "import matplotlib as mpl\n",
    "import matplotlib.pyplot as plt\n",
    "import seaborn as sns\n",
    "\n",
    "##model selection \n",
    "from sklearn.model_selection import GridSearchCV\n",
    "\n",
    "##모델 성능 비교\n",
    "from sklearn.metrics import accuracy_score\n",
    "from sklearn.metrics import precision_score\n",
    "from sklearn.metrics import confusion_matrix\n",
    "from sklearn.metrics import roc_curve"
   ]
  },
  {
   "cell_type": "code",
   "execution_count": 62,
   "metadata": {},
   "outputs": [],
   "source": [
    "df=pd.read_csv('loan_cleaned.csv', index_col=0)"
   ]
  },
  {
   "cell_type": "code",
   "execution_count": 63,
   "metadata": {},
   "outputs": [],
   "source": [
    "df=df.sample(frac=0.1, random_state=1)"
   ]
  },
  {
   "cell_type": "code",
   "execution_count": 64,
   "metadata": {
    "collapsed": true
   },
   "outputs": [
    {
     "data": {
      "text/plain": [
       "<bound method NDFrame.head of         funded_amnt  int_rate  annual_inc  delinq_2yrs  inq_last_6mths  \\\n",
       "590306      25000.0     12.69    71040.00          0.0             0.0   \n",
       "476089       9000.0      9.76    90000.00          0.0             0.0   \n",
       "219165       8000.0     13.11    37000.00          0.0             0.0   \n",
       "507177       8000.0     14.48   400000.00          0.0             2.0   \n",
       "537730      22000.0     11.49    64000.00          0.0             1.0   \n",
       "180422      24250.0     22.47    55000.00          2.0             1.0   \n",
       "686192      17000.0     16.55    66000.00          0.0             0.0   \n",
       "268242       2800.0      9.17    30000.00          0.0             0.0   \n",
       "54754       10000.0     14.30    50000.00          1.0             0.0   \n",
       "575549      25000.0     20.99    68000.00          0.0             1.0   \n",
       "886389       6000.0      6.99   139000.00          0.0             0.0   \n",
       "260628       7200.0     13.66    36735.41          0.0             0.0   \n",
       "18815        7000.0      7.29    80000.00          0.0             2.0   \n",
       "685525      25000.0     18.55    78000.00          1.0             0.0   \n",
       "780674      16000.0     17.86    34400.00          0.0             2.0   \n",
       "47207        2500.0     14.98    43000.00          0.0             0.0   \n",
       "770183      10000.0     13.99    50000.00          0.0             1.0   \n",
       "95344       19000.0      6.62    43500.00          0.0             1.0   \n",
       "88713        2800.0     19.20    37000.00          0.0             3.0   \n",
       "487607      15000.0     10.64   200000.00          1.0             0.0   \n",
       "262078       8000.0      9.49    51000.00          0.0             0.0   \n",
       "845957      12000.0     11.99    96000.00          0.0             0.0   \n",
       "254938       8000.0     12.39    75000.00          0.0             1.0   \n",
       "533204      20000.0     10.99    63000.00          0.0             0.0   \n",
       "28909        4800.0     13.98    48279.60          0.0             0.0   \n",
       "57840       25000.0     20.20   140000.00          0.0             3.0   \n",
       "698906      28000.0      9.99   106000.00          0.0             0.0   \n",
       "727802      15500.0      7.26    45000.00          1.0             0.0   \n",
       "540555      30000.0     10.99   115000.00          2.0             0.0   \n",
       "416485      18000.0     17.57   100000.00          0.0             1.0   \n",
       "...             ...       ...         ...          ...             ...   \n",
       "7526         4000.0      7.51    40000.00          0.0             0.0   \n",
       "721215      12000.0      6.24    40000.00          0.0             1.0   \n",
       "629416      35000.0     16.55    90000.00          0.0             1.0   \n",
       "101080      15000.0     11.55   118000.00          0.0             1.0   \n",
       "378377      25000.0      9.17   108000.00          0.0             0.0   \n",
       "432773       7200.0     13.65    52000.00          0.0             2.0   \n",
       "90505        9300.0     17.76    42000.00          0.0             2.0   \n",
       "182272      30000.0     13.11   160000.00          0.0             1.0   \n",
       "694485      14500.0      5.32    65000.00          0.0             0.0   \n",
       "758593       4875.0     13.33    15000.00          0.0             0.0   \n",
       "312704       5375.0     14.49    55000.00          0.0             0.0   \n",
       "28301        6000.0     14.35    72000.00          0.0             0.0   \n",
       "221634      35000.0     12.12    70000.00          0.0             0.0   \n",
       "661541      23000.0     13.33   138000.00          0.0             0.0   \n",
       "397837       8400.0      8.90    33000.00          0.0             1.0   \n",
       "838136      24000.0      8.18   135000.00          0.0             1.0   \n",
       "213597       5375.0      8.90    27000.00          0.0             0.0   \n",
       "310180      18000.0      8.39    86000.00          0.0             0.0   \n",
       "730151      16000.0     12.69   150000.00          0.0             0.0   \n",
       "679866      15000.0     16.55    52000.00          0.0             0.0   \n",
       "780728       9000.0     13.33    76000.00          0.0             4.0   \n",
       "113449      18000.0      7.90    82000.00          0.0             0.0   \n",
       "376517       7900.0     11.67    45500.00          1.0             0.0   \n",
       "799567      11425.0     15.61    44000.00          0.0             1.0   \n",
       "805872      17250.0      9.17   175000.00          2.0             1.0   \n",
       "110919      21350.0     16.78    48000.00          0.0             1.0   \n",
       "485314      14000.0     10.64    82650.00          2.0             1.0   \n",
       "846138      10400.0     11.44    60000.00          0.0             0.0   \n",
       "545656      15000.0     10.99    74400.00          0.0             1.0   \n",
       "291538      25000.0     17.57    82000.00          0.0             0.0   \n",
       "\n",
       "        pub_rec  last_pymnt_amnt  loan_status_dummy  home_ownership_MORTGAGE  \\\n",
       "590306      0.0           838.63                  0                        0   \n",
       "476089      0.0             0.00                  0                        1   \n",
       "219165      0.0           284.19                  0                        0   \n",
       "507177      1.0           275.29                  0                        0   \n",
       "537730      0.0           725.37                  0                        0   \n",
       "180422      0.0           676.26                  0                        1   \n",
       "686192      2.0           418.40                  0                        1   \n",
       "268242      1.0            89.27                  0                        0   \n",
       "54754       0.0           343.24                  0                        1   \n",
       "575549      0.0           676.20                  0                        0   \n",
       "886389      0.0           185.24                  0                        1   \n",
       "260628      0.0          3176.50                  0                        0   \n",
       "18815       0.0          3133.91                  0                        0   \n",
       "685525      0.0           642.34                  0                        1   \n",
       "780674      0.0           405.08                  0                        1   \n",
       "47207       0.0          1887.75                  0                        0   \n",
       "770183      0.0           232.64                  0                        1   \n",
       "95344       0.0           583.37                  0                        1   \n",
       "88713       0.0           102.93                  0                        0   \n",
       "487607      0.0           323.45                  0                        0   \n",
       "262078      0.0           256.23                  0                        0   \n",
       "845957      0.0         10069.89                  0                        1   \n",
       "254938      0.0           267.21                  0                        0   \n",
       "533204      0.0           654.68                  0                        0   \n",
       "28909       0.0           962.15                  0                        0   \n",
       "57840       0.0           665.14                  0                        0   \n",
       "698906      0.0           594.78                  0                        1   \n",
       "727802      0.0           480.44                  0                        1   \n",
       "540555      0.0           982.02                  0                        1   \n",
       "416485      0.0           452.89                  1                        1   \n",
       "...         ...              ...                ...                      ...   \n",
       "7526        0.0           144.94                  0                        1   \n",
       "721215      1.0           366.37                  0                        0   \n",
       "629416      0.0          1240.03                  0                        0   \n",
       "101080      0.0         11060.38                  0                        1   \n",
       "378377      0.0           796.98                  0                        0   \n",
       "432773      0.0          3564.32                  0                        0   \n",
       "90505       0.0           335.10                  0                        0   \n",
       "182272      0.0         14959.40                  0                        1   \n",
       "694485      0.0           436.67                  0                        0   \n",
       "758593      0.0           165.04                  0                        0   \n",
       "312704      1.0           184.99                  0                        0   \n",
       "28301       0.0           206.09                  1                        0   \n",
       "221634      0.0         25365.29                  0                        0   \n",
       "661541      0.0           527.22                  0                        1   \n",
       "397837      0.0           266.73                  0                        0   \n",
       "838136      0.0           754.07                  0                        0   \n",
       "213597      0.0           175.03                  0                        0   \n",
       "310180      1.0           368.35                  0                        1   \n",
       "730151      0.0           361.52                  0                        1   \n",
       "679866      0.0           369.17                  0                        0   \n",
       "780728      2.0           304.68                  0                        1   \n",
       "113449      0.0           563.23                  0                        0   \n",
       "376517      0.0           261.15                  0                        0   \n",
       "799567      0.0           399.48                  0                        0   \n",
       "805872      0.0           359.51                  0                        0   \n",
       "110919      0.0         18630.82                  0                        1   \n",
       "485314      0.0           301.89                  0                        1   \n",
       "846138      0.0           342.66                  0                        1   \n",
       "545656      0.0           326.07                  0                        1   \n",
       "291538      0.0           629.01                  0                        0   \n",
       "\n",
       "        home_ownership_OTHER  home_ownership_OWN  home_ownership_RENT  \\\n",
       "590306                     0                   0                    1   \n",
       "476089                     0                   0                    0   \n",
       "219165                     0                   0                    1   \n",
       "507177                     0                   0                    1   \n",
       "537730                     0                   0                    1   \n",
       "180422                     0                   0                    0   \n",
       "686192                     0                   0                    0   \n",
       "268242                     0                   0                    1   \n",
       "54754                      0                   0                    0   \n",
       "575549                     0                   1                    0   \n",
       "886389                     0                   0                    0   \n",
       "260628                     0                   0                    1   \n",
       "18815                      0                   0                    1   \n",
       "685525                     0                   0                    0   \n",
       "780674                     0                   0                    0   \n",
       "47207                      0                   0                    1   \n",
       "770183                     0                   0                    0   \n",
       "95344                      0                   0                    0   \n",
       "88713                      0                   0                    1   \n",
       "487607                     0                   0                    1   \n",
       "262078                     0                   1                    0   \n",
       "845957                     0                   0                    0   \n",
       "254938                     0                   1                    0   \n",
       "533204                     0                   0                    1   \n",
       "28909                      0                   1                    0   \n",
       "57840                      0                   1                    0   \n",
       "698906                     0                   0                    0   \n",
       "727802                     0                   0                    0   \n",
       "540555                     0                   0                    0   \n",
       "416485                     0                   0                    0   \n",
       "...                      ...                 ...                  ...   \n",
       "7526                       0                   0                    0   \n",
       "721215                     0                   0                    1   \n",
       "629416                     0                   1                    0   \n",
       "101080                     0                   0                    0   \n",
       "378377                     0                   0                    1   \n",
       "432773                     0                   0                    1   \n",
       "90505                      0                   0                    1   \n",
       "182272                     0                   0                    0   \n",
       "694485                     0                   0                    1   \n",
       "758593                     0                   0                    1   \n",
       "312704                     0                   0                    1   \n",
       "28301                      0                   0                    1   \n",
       "221634                     0                   1                    0   \n",
       "661541                     0                   0                    0   \n",
       "397837                     0                   1                    0   \n",
       "838136                     0                   0                    1   \n",
       "213597                     0                   0                    1   \n",
       "310180                     0                   0                    0   \n",
       "730151                     0                   0                    0   \n",
       "679866                     0                   0                    1   \n",
       "780728                     0                   0                    0   \n",
       "113449                     0                   1                    0   \n",
       "376517                     0                   0                    1   \n",
       "799567                     0                   1                    0   \n",
       "805872                     0                   0                    1   \n",
       "110919                     0                   0                    0   \n",
       "485314                     0                   0                    0   \n",
       "846138                     0                   0                    0   \n",
       "545656                     0                   0                    0   \n",
       "291538                     0                   0                    1   \n",
       "\n",
       "        term_ 36 months  term_ 60 months  emp_length_years  \n",
       "590306                1                0               3.0  \n",
       "476089                1                0              10.0  \n",
       "219165                1                0               8.0  \n",
       "507177                1                0               4.0  \n",
       "537730                1                0               1.0  \n",
       "180422                0                1              10.0  \n",
       "686192                0                1               6.0  \n",
       "268242                1                0               1.0  \n",
       "54754                 1                0               4.0  \n",
       "575549                0                1              10.0  \n",
       "886389                1                0              10.0  \n",
       "260628                1                0               4.0  \n",
       "18815                 1                0               5.0  \n",
       "685525                0                1               1.0  \n",
       "780674                0                1               3.0  \n",
       "47207                 0                1               6.0  \n",
       "770183                0                1              10.0  \n",
       "95344                 1                0              10.0  \n",
       "88713                 1                0               2.0  \n",
       "487607                0                1               1.0  \n",
       "262078                1                0              10.0  \n",
       "845957                1                0              10.0  \n",
       "254938                1                0               6.0  \n",
       "533204                1                0              10.0  \n",
       "28909                 1                0               7.0  \n",
       "57840                 0                1              10.0  \n",
       "698906                0                1              10.0  \n",
       "727802                1                0              10.0  \n",
       "540555                1                0              10.0  \n",
       "416485                0                1               2.0  \n",
       "...                 ...              ...               ...  \n",
       "7526                  1                0              10.0  \n",
       "721215                1                0               3.0  \n",
       "629416                1                0              10.0  \n",
       "101080                1                0               5.0  \n",
       "378377                1                0               9.0  \n",
       "432773                1                0              10.0  \n",
       "90505                 1                0               2.0  \n",
       "182272                1                0               1.0  \n",
       "694485                1                0               1.0  \n",
       "758593                1                0               1.0  \n",
       "312704                1                0              10.0  \n",
       "28301                 1                0               4.0  \n",
       "221634                0                1               7.0  \n",
       "661541                0                1              10.0  \n",
       "397837                1                0               6.0  \n",
       "838136                1                0               2.0  \n",
       "213597                1                0              10.0  \n",
       "310180                0                1               4.0  \n",
       "730151                0                1               1.0  \n",
       "679866                0                1               8.0  \n",
       "780728                1                0               7.0  \n",
       "113449                1                0               2.0  \n",
       "376517                1                0               2.0  \n",
       "799567                1                0               6.0  \n",
       "805872                0                1               1.0  \n",
       "110919                0                1              10.0  \n",
       "485314                0                1               2.0  \n",
       "846138                1                0              10.0  \n",
       "545656                0                1               1.0  \n",
       "291538                0                1               1.0  \n",
       "\n",
       "[8398 rows x 15 columns]>"
      ]
     },
     "execution_count": 64,
     "metadata": {},
     "output_type": "execute_result"
    }
   ],
   "source": [
    "df.head"
   ]
  },
  {
   "cell_type": "code",
   "execution_count": 65,
   "metadata": {
    "collapsed": true
   },
   "outputs": [
    {
     "name": "stdout",
     "output_type": "stream",
     "text": [
      "<class 'pandas.core.frame.DataFrame'>\n",
      "Int64Index: 8398 entries, 590306 to 291538\n",
      "Data columns (total 15 columns):\n",
      "funded_amnt                8398 non-null float64\n",
      "int_rate                   8398 non-null float64\n",
      "annual_inc                 8398 non-null float64\n",
      "delinq_2yrs                8398 non-null float64\n",
      "inq_last_6mths             8398 non-null float64\n",
      "pub_rec                    8398 non-null float64\n",
      "last_pymnt_amnt            8398 non-null float64\n",
      "loan_status_dummy          8398 non-null int64\n",
      "home_ownership_MORTGAGE    8398 non-null int64\n",
      "home_ownership_OTHER       8398 non-null int64\n",
      "home_ownership_OWN         8398 non-null int64\n",
      "home_ownership_RENT        8398 non-null int64\n",
      "term_ 36 months            8398 non-null int64\n",
      "term_ 60 months            8398 non-null int64\n",
      "emp_length_years           8398 non-null float64\n",
      "dtypes: float64(8), int64(7)\n",
      "memory usage: 1.0 MB\n"
     ]
    }
   ],
   "source": [
    "df.info()"
   ]
  },
  {
   "cell_type": "code",
   "execution_count": 66,
   "metadata": {},
   "outputs": [],
   "source": [
    "X=df.drop(['loan_status_dummy'], axis=1)\n",
    "y=df['loan_status_dummy']"
   ]
  },
  {
   "cell_type": "code",
   "execution_count": 67,
   "metadata": {
    "collapsed": true
   },
   "outputs": [
    {
     "name": "stdout",
     "output_type": "stream",
     "text": [
      "<class 'pandas.core.frame.DataFrame'>\n",
      "Int64Index: 8398 entries, 590306 to 291538\n",
      "Data columns (total 14 columns):\n",
      "funded_amnt                8398 non-null float64\n",
      "int_rate                   8398 non-null float64\n",
      "annual_inc                 8398 non-null float64\n",
      "delinq_2yrs                8398 non-null float64\n",
      "inq_last_6mths             8398 non-null float64\n",
      "pub_rec                    8398 non-null float64\n",
      "last_pymnt_amnt            8398 non-null float64\n",
      "home_ownership_MORTGAGE    8398 non-null int64\n",
      "home_ownership_OTHER       8398 non-null int64\n",
      "home_ownership_OWN         8398 non-null int64\n",
      "home_ownership_RENT        8398 non-null int64\n",
      "term_ 36 months            8398 non-null int64\n",
      "term_ 60 months            8398 non-null int64\n",
      "emp_length_years           8398 non-null float64\n",
      "dtypes: float64(8), int64(6)\n",
      "memory usage: 984.1 KB\n"
     ]
    }
   ],
   "source": [
    "X.info()"
   ]
  },
  {
   "cell_type": "code",
   "execution_count": 68,
   "metadata": {},
   "outputs": [],
   "source": [
    "#train set, test set split\n",
    "X_train, X_test, y_train, y_test= train_test_split(X, y, \n",
    "                                                  test_size=0.2,\n",
    "                                                  random_state=43,\n",
    "                                                  stratify=y)                                                  "
   ]
  },
  {
   "cell_type": "code",
   "execution_count": 69,
   "metadata": {},
   "outputs": [
    {
     "data": {
      "text/plain": [
       "0.07948794284013098"
      ]
     },
     "execution_count": 69,
     "metadata": {},
     "output_type": "execute_result"
    }
   ],
   "source": [
    "#split이 같은 비율로 잘되었나 확인\n",
    "y_train.sum()/len(y_train)"
   ]
  },
  {
   "cell_type": "code",
   "execution_count": 70,
   "metadata": {},
   "outputs": [
    {
     "data": {
      "text/plain": [
       "0.07916666666666666"
      ]
     },
     "execution_count": 70,
     "metadata": {},
     "output_type": "execute_result"
    }
   ],
   "source": [
    "y_test.sum()/len(y_test)"
   ]
  },
  {
   "cell_type": "code",
   "execution_count": 71,
   "metadata": {
    "collapsed": true
   },
   "outputs": [
    {
     "name": "stderr",
     "output_type": "stream",
     "text": [
      "C:\\Users\\renz\\Anaconda3\\lib\\site-packages\\sklearn\\preprocessing\\data.py:625: DataConversionWarning: Data with input dtype int64, float64 were all converted to float64 by StandardScaler.\n",
      "  return self.partial_fit(X, y)\n",
      "C:\\Users\\renz\\Anaconda3\\lib\\site-packages\\ipykernel_launcher.py:4: DataConversionWarning: Data with input dtype int64, float64 were all converted to float64 by StandardScaler.\n",
      "  after removing the cwd from sys.path.\n",
      "C:\\Users\\renz\\Anaconda3\\lib\\site-packages\\ipykernel_launcher.py:5: DataConversionWarning: Data with input dtype int64, float64 were all converted to float64 by StandardScaler.\n",
      "  \"\"\"\n"
     ]
    }
   ],
   "source": [
    "#정규화\n",
    "sc=StandardScaler()\n",
    "sc.fit(X_train)\n",
    "X_train=sc.transform(X_train)\n",
    "X_test=sc.transform(X_test)"
   ]
  },
  {
   "cell_type": "code",
   "execution_count": 72,
   "metadata": {},
   "outputs": [
    {
     "data": {
      "text/plain": [
       "(6.194924545180136e-18, 1.0)"
      ]
     },
     "execution_count": 72,
     "metadata": {},
     "output_type": "execute_result"
    }
   ],
   "source": [
    "np.mean(X_train), np.std(X_train)"
   ]
  },
  {
   "cell_type": "markdown",
   "metadata": {},
   "source": [
    "# Classification Model"
   ]
  },
  {
   "cell_type": "code",
   "execution_count": 129,
   "metadata": {},
   "outputs": [],
   "source": [
    "##gridsearch cv 함수 만들기\n",
    "all_model_name=[]\n",
    "all_cross_score=[]\n",
    "all_accuracy_score=[]\n",
    "all_precision_score=[]\n",
    "\n",
    "def do_gscv(model, params_dict, X_train=X_train, X_test=X_test, y_train=y_train, y_test=y_test):\n",
    "    model_name=model.__class__.__name__\n",
    "    all_model_name.append(model_name)\n",
    "    model=GridSearchCV(estimator=model,\n",
    "                 param_grid=params_dict,\n",
    "                 scoring='accuracy',\n",
    "                 n_jobs=-1,\n",
    "                 cv=10)\n",
    "    model.fit(X_train, y_train)\n",
    "    pred=model.predict(X_test)\n",
    "    ac_score=accuracy_score(y_test, pred)\n",
    "    all_accuracy_score.append(ac_score)\n",
    "    print(\"##\"+model_name+\"##\")\n",
    "    print('Accuracy:%0.2f' %ac_score)\n",
    "    pr_score=precision_score(y_test, pred)\n",
    "    all_precision_score.append(pr_score)\n",
    "    print('Precision:%0.2f' %pr_score)\n",
    "    print(confusion_matrix(y_test, pred))\n",
    "    print(model.best_params_)\n",
    "    cv_score=[]\n",
    "    for i in range(10):\n",
    "        cv_score.append(model.cv_results_['split'+str(i)+'_test_score'][model.best_index_])\n",
    "    all_cross_score.append(cv_score)\n",
    "    \n",
    " "
   ]
  },
  {
   "cell_type": "code",
   "execution_count": 131,
   "metadata": {},
   "outputs": [],
   "source": [
    "##model과 params dict 만들기\n",
    "\n",
    "all_model=[DecisionTreeClassifier(), \n",
    "           RandomForestClassifier(), \n",
    "           BaggingClassifier(), \n",
    "           KNeighborsClassifier(), \n",
    "           AdaBoostClassifier(),\n",
    "           SVC(),\n",
    "           Perceptron()]\n",
    "all_params_dict=[{'criterion': ['gini', 'entropy'],'max_depth': [1,2,3,4]},\n",
    "                {'n_estimators':np.arange(1,30,5), 'criterion': ['gini', 'entropy'], 'max_depth':[1,2,3,4,5]},\n",
    "                {'n_estimators': np.arange(1,30,5),'max_samples':[0.2,0.4,0.6,0.8,1.0]},\n",
    "                {'n_neighbors': np.arange(1,6,1),'weights':['uniform', 'distance'],'algorithm':['auto','ball_tree', 'brute']},\n",
    "                {'n_estimators': [50,100]},\n",
    "                {'C': [0.1,1.0, 10.0],'kernel':['poly', 'linear', 'rbf']},\n",
    "                {'penalty':['l1','l2'], 'alpha':[0.0001, 0.001,0.01,0.1,1.0,10.0,100.0], 'n_iter':[300, 350, 400], 'eta0':[0.1]}]"
   ]
  },
  {
   "cell_type": "code",
   "execution_count": 132,
   "metadata": {},
   "outputs": [
    {
     "name": "stdout",
     "output_type": "stream",
     "text": [
      "##DecisionTreeClassifier##\n",
      "Accuracy:0.92\n",
      "Precision:0.60\n",
      "[[1539    8]\n",
      " [ 121   12]]\n",
      "{'criterion': 'entropy', 'max_depth': 4}\n",
      "##RandomForestClassifier##\n",
      "Accuracy:0.92\n",
      "Precision:0.73\n",
      "[[1544    3]\n",
      " [ 125    8]]\n",
      "{'criterion': 'gini', 'max_depth': 4, 'n_estimators': 1}\n",
      "##BaggingClassifier##\n",
      "Accuracy:0.92\n",
      "Precision:0.43\n",
      "[[1535   12]\n",
      " [ 124    9]]\n",
      "{'max_samples': 0.2, 'n_estimators': 26}\n",
      "##KNeighborsClassifier##\n",
      "Accuracy:0.91\n",
      "Precision:0.08\n",
      "[[1536   11]\n",
      " [ 132    1]]\n",
      "{'algorithm': 'auto', 'n_neighbors': 4, 'weights': 'uniform'}\n",
      "##AdaBoostClassifier##\n",
      "Accuracy:0.92\n",
      "Precision:0.56\n",
      "[[1540    7]\n",
      " [ 124    9]]\n",
      "{'n_estimators': 100}\n",
      "##SVC##\n",
      "Accuracy:0.92\n",
      "Precision:0.00\n",
      "[[1547    0]\n",
      " [ 133    0]]\n",
      "{'C': 0.1, 'kernel': 'rbf'}\n"
     ]
    },
    {
     "name": "stderr",
     "output_type": "stream",
     "text": [
      "C:\\Users\\renz\\Anaconda3\\lib\\site-packages\\sklearn\\metrics\\classification.py:1143: UndefinedMetricWarning: Precision is ill-defined and being set to 0.0 due to no predicted samples.\n",
      "  'precision', 'predicted', average, warn_for)\n",
      "C:\\Users\\renz\\Anaconda3\\lib\\site-packages\\sklearn\\model_selection\\_search.py:841: DeprecationWarning: The default of the `iid` parameter will change from True to False in version 0.22 and will be removed in 0.24. This will change numeric results when test-set sizes are unequal.\n",
      "  DeprecationWarning)\n",
      "C:\\Users\\renz\\Anaconda3\\lib\\site-packages\\sklearn\\linear_model\\stochastic_gradient.py:152: DeprecationWarning: n_iter parameter is deprecated in 0.19 and will be removed in 0.21. Use max_iter and tol instead.\n",
      "  DeprecationWarning)\n"
     ]
    },
    {
     "name": "stdout",
     "output_type": "stream",
     "text": [
      "##Perceptron##\n",
      "Accuracy:0.92\n",
      "Precision:0.00\n",
      "[[1547    0]\n",
      " [ 133    0]]\n",
      "{'alpha': 0.01, 'eta0': 0.1, 'n_iter': 300, 'penalty': 'l1'}\n"
     ]
    },
    {
     "name": "stderr",
     "output_type": "stream",
     "text": [
      "C:\\Users\\renz\\Anaconda3\\lib\\site-packages\\sklearn\\metrics\\classification.py:1143: UndefinedMetricWarning: Precision is ill-defined and being set to 0.0 due to no predicted samples.\n",
      "  'precision', 'predicted', average, warn_for)\n"
     ]
    }
   ],
   "source": [
    "for model, params_dict in zip(all_model, all_params_dict):\n",
    "    do_gscv(model, params_dict)\n",
    "     "
   ]
  },
  {
   "cell_type": "code",
   "execution_count": 133,
   "metadata": {
    "scrolled": false
   },
   "outputs": [
    {
     "data": {
      "text/html": [
       "<div>\n",
       "<style scoped>\n",
       "    .dataframe tbody tr th:only-of-type {\n",
       "        vertical-align: middle;\n",
       "    }\n",
       "\n",
       "    .dataframe tbody tr th {\n",
       "        vertical-align: top;\n",
       "    }\n",
       "\n",
       "    .dataframe thead th {\n",
       "        text-align: right;\n",
       "    }\n",
       "</style>\n",
       "<table border=\"1\" class=\"dataframe\">\n",
       "  <thead>\n",
       "    <tr style=\"text-align: right;\">\n",
       "      <th></th>\n",
       "      <th>0</th>\n",
       "      <th>1</th>\n",
       "      <th>2</th>\n",
       "      <th>3</th>\n",
       "      <th>4</th>\n",
       "      <th>5</th>\n",
       "      <th>6</th>\n",
       "      <th>7</th>\n",
       "      <th>8</th>\n",
       "      <th>9</th>\n",
       "    </tr>\n",
       "  </thead>\n",
       "  <tbody>\n",
       "    <tr>\n",
       "      <th>DecisionTreeClassifier</th>\n",
       "      <td>0.916790</td>\n",
       "      <td>0.927192</td>\n",
       "      <td>0.921248</td>\n",
       "      <td>0.919762</td>\n",
       "      <td>0.910581</td>\n",
       "      <td>0.923994</td>\n",
       "      <td>0.919523</td>\n",
       "      <td>0.926975</td>\n",
       "      <td>0.915052</td>\n",
       "      <td>0.925484</td>\n",
       "    </tr>\n",
       "    <tr>\n",
       "      <th>RandomForestClassifier</th>\n",
       "      <td>0.919762</td>\n",
       "      <td>0.930163</td>\n",
       "      <td>0.921248</td>\n",
       "      <td>0.921248</td>\n",
       "      <td>0.919523</td>\n",
       "      <td>0.921013</td>\n",
       "      <td>0.923994</td>\n",
       "      <td>0.916542</td>\n",
       "      <td>0.916542</td>\n",
       "      <td>0.919523</td>\n",
       "    </tr>\n",
       "    <tr>\n",
       "      <th>BaggingClassifier</th>\n",
       "      <td>0.922734</td>\n",
       "      <td>0.919762</td>\n",
       "      <td>0.919762</td>\n",
       "      <td>0.919762</td>\n",
       "      <td>0.913562</td>\n",
       "      <td>0.923994</td>\n",
       "      <td>0.916542</td>\n",
       "      <td>0.921013</td>\n",
       "      <td>0.916542</td>\n",
       "      <td>0.923994</td>\n",
       "    </tr>\n",
       "    <tr>\n",
       "      <th>KNeighborsClassifier</th>\n",
       "      <td>0.916790</td>\n",
       "      <td>0.912333</td>\n",
       "      <td>0.913819</td>\n",
       "      <td>0.919762</td>\n",
       "      <td>0.919523</td>\n",
       "      <td>0.919523</td>\n",
       "      <td>0.915052</td>\n",
       "      <td>0.913562</td>\n",
       "      <td>0.919523</td>\n",
       "      <td>0.921013</td>\n",
       "    </tr>\n",
       "    <tr>\n",
       "      <th>AdaBoostClassifier</th>\n",
       "      <td>0.918276</td>\n",
       "      <td>0.924220</td>\n",
       "      <td>0.924220</td>\n",
       "      <td>0.918276</td>\n",
       "      <td>0.913562</td>\n",
       "      <td>0.921013</td>\n",
       "      <td>0.918033</td>\n",
       "      <td>0.923994</td>\n",
       "      <td>0.918033</td>\n",
       "      <td>0.922504</td>\n",
       "    </tr>\n",
       "    <tr>\n",
       "      <th>SVC</th>\n",
       "      <td>0.919762</td>\n",
       "      <td>0.919762</td>\n",
       "      <td>0.919762</td>\n",
       "      <td>0.919762</td>\n",
       "      <td>0.921013</td>\n",
       "      <td>0.921013</td>\n",
       "      <td>0.921013</td>\n",
       "      <td>0.921013</td>\n",
       "      <td>0.921013</td>\n",
       "      <td>0.921013</td>\n",
       "    </tr>\n",
       "    <tr>\n",
       "      <th>Perceptron</th>\n",
       "      <td>0.919762</td>\n",
       "      <td>0.919762</td>\n",
       "      <td>0.919762</td>\n",
       "      <td>0.919762</td>\n",
       "      <td>0.921013</td>\n",
       "      <td>0.921013</td>\n",
       "      <td>0.921013</td>\n",
       "      <td>0.921013</td>\n",
       "      <td>0.921013</td>\n",
       "      <td>0.921013</td>\n",
       "    </tr>\n",
       "  </tbody>\n",
       "</table>\n",
       "</div>"
      ],
      "text/plain": [
       "                               0         1         2         3         4  \\\n",
       "DecisionTreeClassifier  0.916790  0.927192  0.921248  0.919762  0.910581   \n",
       "RandomForestClassifier  0.919762  0.930163  0.921248  0.921248  0.919523   \n",
       "BaggingClassifier       0.922734  0.919762  0.919762  0.919762  0.913562   \n",
       "KNeighborsClassifier    0.916790  0.912333  0.913819  0.919762  0.919523   \n",
       "AdaBoostClassifier      0.918276  0.924220  0.924220  0.918276  0.913562   \n",
       "SVC                     0.919762  0.919762  0.919762  0.919762  0.921013   \n",
       "Perceptron              0.919762  0.919762  0.919762  0.919762  0.921013   \n",
       "\n",
       "                               5         6         7         8         9  \n",
       "DecisionTreeClassifier  0.923994  0.919523  0.926975  0.915052  0.925484  \n",
       "RandomForestClassifier  0.921013  0.923994  0.916542  0.916542  0.919523  \n",
       "BaggingClassifier       0.923994  0.916542  0.921013  0.916542  0.923994  \n",
       "KNeighborsClassifier    0.919523  0.915052  0.913562  0.919523  0.921013  \n",
       "AdaBoostClassifier      0.921013  0.918033  0.923994  0.918033  0.922504  \n",
       "SVC                     0.921013  0.921013  0.921013  0.921013  0.921013  \n",
       "Perceptron              0.921013  0.921013  0.921013  0.921013  0.921013  "
      ]
     },
     "execution_count": 133,
     "metadata": {},
     "output_type": "execute_result"
    }
   ],
   "source": [
    "compare1=pd.DataFrame(all_cross_score, index=all_model_name)\n",
    "compare1"
   ]
  },
  {
   "cell_type": "code",
   "execution_count": 134,
   "metadata": {
    "scrolled": false
   },
   "outputs": [
    {
     "data": {
      "image/png": "[encoded data removed]",
      "text/plain": [
       "<Figure size 432x288 with 1 Axes>"
      ]
     },
     "metadata": {
      "needs_background": "light"
     },
     "output_type": "display_data"
    }
   ],
   "source": [
    "for i in range(10):\n",
    "    plt.plot(compare1[i], compare1.index)\n",
    "plt.xlim(0.85,0.95)\n",
    "plt.show()"
   ]
  },
  {
   "cell_type": "markdown",
   "metadata": {},
   "source": [
    "# Regression Model"
   ]
  },
  {
   "cell_type": "code",
   "execution_count": 136,
   "metadata": {},
   "outputs": [],
   "source": [
    "##making regression functinon\n",
    "all_model_name_reg=[]\n",
    "all_cross_score_reg=[]\n",
    "all_accuracy_score_reg=[]\n",
    "all_precision_score_reg=[]\n",
    "\n",
    "def dogs_reg(model_reg, params_dict_reg, X_train=X_train, X_test=X_test, y_train=y_train, y_test=y_test):\n",
    "        model_name=model_reg.__class__.__name__\n",
    "        all_model_name_reg.append(model_name)\n",
    "        model=GridSearchCV(estimator=model_reg,\n",
    "                  param_grid=params_dict_reg,\n",
    "                  n_jobs=-1,\n",
    "                  cv=10)\n",
    "        model.fit(X_train, y_train)\n",
    "        pred_prob=model.predict(X_test)\n",
    "        fpr,tpr, threshold=roc_curve(y_test, pred_prob)\n",
    "        roc_result=pd.DataFrame([fpr, tpr, threshold], index=['fpr', 'tpr', 'threshold']).T\n",
    "        roc_result['best']=(1-roc_result.fpr)+(roc_result.tpr)\n",
    "        ##finding optimal_threshold\n",
    "        optimal_threshold=roc_result.threshold[roc_result.best.idxmax()]\n",
    "        pred=np.where(pred_prob>=optimal_threshold, 1, 0)\n",
    "        ##making confusion matrix\n",
    "        ac_score=accuracy_score(y_test, pred)\n",
    "        all_accuracy_score_reg.append(ac_score)\n",
    "        pr_score=precision_score(y_test, pred)\n",
    "        all_precision_score_reg.append(pr_score)\n",
    "        con=confusion_matrix(y_test, pred)\n",
    "        print(\"##\"+model_name+\"Result##\")\n",
    "        print(\"Accuracy:%0.2f\" %ac_score)\n",
    "        print(\"Precision:%0.2f\" %pr_score)\n",
    "        print(con)\n",
    "        print(\"Optimal Threshold:%0.2f\" %optimal_threshold)\n",
    "        print(model.best_params_)\n",
    "        cv_score=[]\n",
    "        for i in range(10):\n",
    "            cv_score.append(model.cv_results_['split'+str(i)+'_test_score'][model.best_index_])\n",
    "        all_cross_score_reg.append(cv_score)"
   ]
  },
  {
   "cell_type": "code",
   "execution_count": 137,
   "metadata": {},
   "outputs": [],
   "source": [
    "##Regression models and parameter dictionary\n",
    "\n",
    "all_model_reg=[Lasso(),\n",
    "              Ridge(),\n",
    "              ElasticNet(),\n",
    "              LogisticRegression(),\n",
    "              LinearRegression()]\n",
    "\n",
    "all_params_dict_reg=[{'alpha':[0.0001, 0.001, 0.01, 0.1, 1.0, 10.0, 100.0]},\n",
    "                    {'alpha':[0.0001, 0.001, 0.01, 0.1, 1.0, 10.0, 100.0]},\n",
    "                    {'max_iter':[1,2], 'alpha':[0.0001, 0.001, 0.01, 0.1, 1.0, 10.0, 100.0], 'l1_ratio':[0.1,0.2,0.3,0.4,0.5,0.6,0.7]},\n",
    "                    {\"C\":[0.0001, 0.001, 0.01, 0.1, 1.0, 10.0, 100.0], 'penalty':['l1', 'l2']},\n",
    "                    {}] "
   ]
  },
  {
   "cell_type": "code",
   "execution_count": 138,
   "metadata": {
    "scrolled": false
   },
   "outputs": [
    {
     "name": "stdout",
     "output_type": "stream",
     "text": [
      "##LassoResult##\n",
      "Accuracy:0.51\n",
      "Precision:0.13\n",
      "[[726 821]\n",
      " [  9 124]]\n",
      "Optimal Threshold:0.07\n",
      "{'alpha': 0.001}\n",
      "##RidgeResult##\n",
      "Accuracy:0.55\n",
      "Precision:0.14\n",
      "[[802 745]\n",
      " [ 15 118]]\n",
      "Optimal Threshold:0.08\n",
      "{'alpha': 100.0}\n"
     ]
    },
    {
     "name": "stderr",
     "output_type": "stream",
     "text": [
      "C:\\Users\\renz\\Anaconda3\\lib\\site-packages\\sklearn\\linear_model\\coordinate_descent.py:492: ConvergenceWarning: Objective did not converge. You might want to increase the number of iterations. Fitting data with very small alpha may cause precision problems.\n",
      "  ConvergenceWarning)\n"
     ]
    },
    {
     "name": "stdout",
     "output_type": "stream",
     "text": [
      "##ElasticNetResult##\n",
      "Accuracy:0.59\n",
      "Precision:0.14\n",
      "[[874 673]\n",
      " [ 21 112]]\n",
      "Optimal Threshold:0.08\n",
      "{'alpha': 0.01, 'l1_ratio': 0.4, 'max_iter': 2}\n",
      "##LogisticRegressionResult##\n",
      "Accuracy:0.92\n",
      "Precision:0.00\n",
      "[[1547    0]\n",
      " [ 133    0]]\n",
      "Optimal Threshold:1.00\n",
      "{'C': 0.0001, 'penalty': 'l1'}\n",
      "##LinearRegressionResult##\n",
      "Accuracy:0.55\n",
      "Precision:0.14\n",
      "[[801 746]\n",
      " [ 15 118]]\n",
      "Optimal Threshold:0.08\n",
      "{}\n"
     ]
    },
    {
     "name": "stderr",
     "output_type": "stream",
     "text": [
      "C:\\Users\\renz\\Anaconda3\\lib\\site-packages\\sklearn\\linear_model\\logistic.py:433: FutureWarning: Default solver will be changed to 'lbfgs' in 0.22. Specify a solver to silence this warning.\n",
      "  FutureWarning)\n",
      "C:\\Users\\renz\\Anaconda3\\lib\\site-packages\\sklearn\\metrics\\classification.py:1143: UndefinedMetricWarning: Precision is ill-defined and being set to 0.0 due to no predicted samples.\n",
      "  'precision', 'predicted', average, warn_for)\n"
     ]
    }
   ],
   "source": [
    "for model, params_dict in zip(all_model_reg, all_params_dict_reg):\n",
    "    dogs_reg(model, params_dict)"
   ]
  },
  {
   "cell_type": "code",
   "execution_count": 139,
   "metadata": {
    "scrolled": false
   },
   "outputs": [
    {
     "data": {
      "text/html": [
       "<div>\n",
       "<style scoped>\n",
       "    .dataframe tbody tr th:only-of-type {\n",
       "        vertical-align: middle;\n",
       "    }\n",
       "\n",
       "    .dataframe tbody tr th {\n",
       "        vertical-align: top;\n",
       "    }\n",
       "\n",
       "    .dataframe thead th {\n",
       "        text-align: right;\n",
       "    }\n",
       "</style>\n",
       "<table border=\"1\" class=\"dataframe\">\n",
       "  <thead>\n",
       "    <tr style=\"text-align: right;\">\n",
       "      <th></th>\n",
       "      <th>0</th>\n",
       "      <th>1</th>\n",
       "      <th>2</th>\n",
       "      <th>3</th>\n",
       "      <th>4</th>\n",
       "      <th>5</th>\n",
       "      <th>6</th>\n",
       "      <th>7</th>\n",
       "      <th>8</th>\n",
       "      <th>9</th>\n",
       "    </tr>\n",
       "  </thead>\n",
       "  <tbody>\n",
       "    <tr>\n",
       "      <th>Lasso</th>\n",
       "      <td>0.068928</td>\n",
       "      <td>0.024386</td>\n",
       "      <td>0.026848</td>\n",
       "      <td>0.013731</td>\n",
       "      <td>0.044885</td>\n",
       "      <td>0.024136</td>\n",
       "      <td>0.033930</td>\n",
       "      <td>0.033132</td>\n",
       "      <td>0.042826</td>\n",
       "      <td>0.037482</td>\n",
       "    </tr>\n",
       "    <tr>\n",
       "      <th>Ridge</th>\n",
       "      <td>0.070378</td>\n",
       "      <td>0.024973</td>\n",
       "      <td>0.025367</td>\n",
       "      <td>0.010403</td>\n",
       "      <td>0.045549</td>\n",
       "      <td>0.022705</td>\n",
       "      <td>0.034690</td>\n",
       "      <td>0.034769</td>\n",
       "      <td>0.038322</td>\n",
       "      <td>0.032963</td>\n",
       "    </tr>\n",
       "    <tr>\n",
       "      <th>ElasticNet</th>\n",
       "      <td>0.064169</td>\n",
       "      <td>0.023335</td>\n",
       "      <td>0.029433</td>\n",
       "      <td>0.022532</td>\n",
       "      <td>0.042300</td>\n",
       "      <td>0.026280</td>\n",
       "      <td>0.033560</td>\n",
       "      <td>0.030759</td>\n",
       "      <td>0.041560</td>\n",
       "      <td>0.039246</td>\n",
       "    </tr>\n",
       "    <tr>\n",
       "      <th>LogisticRegression</th>\n",
       "      <td>0.919762</td>\n",
       "      <td>0.919762</td>\n",
       "      <td>0.919762</td>\n",
       "      <td>0.919762</td>\n",
       "      <td>0.921013</td>\n",
       "      <td>0.921013</td>\n",
       "      <td>0.921013</td>\n",
       "      <td>0.921013</td>\n",
       "      <td>0.921013</td>\n",
       "      <td>0.921013</td>\n",
       "    </tr>\n",
       "    <tr>\n",
       "      <th>LinearRegression</th>\n",
       "      <td>0.071108</td>\n",
       "      <td>0.025230</td>\n",
       "      <td>0.025126</td>\n",
       "      <td>0.009071</td>\n",
       "      <td>0.045313</td>\n",
       "      <td>0.021963</td>\n",
       "      <td>0.034646</td>\n",
       "      <td>0.035120</td>\n",
       "      <td>0.037856</td>\n",
       "      <td>0.033024</td>\n",
       "    </tr>\n",
       "  </tbody>\n",
       "</table>\n",
       "</div>"
      ],
      "text/plain": [
       "                           0         1         2         3         4  \\\n",
       "Lasso               0.068928  0.024386  0.026848  0.013731  0.044885   \n",
       "Ridge               0.070378  0.024973  0.025367  0.010403  0.045549   \n",
       "ElasticNet          0.064169  0.023335  0.029433  0.022532  0.042300   \n",
       "LogisticRegression  0.919762  0.919762  0.919762  0.919762  0.921013   \n",
       "LinearRegression    0.071108  0.025230  0.025126  0.009071  0.045313   \n",
       "\n",
       "                           5         6         7         8         9  \n",
       "Lasso               0.024136  0.033930  0.033132  0.042826  0.037482  \n",
       "Ridge               0.022705  0.034690  0.034769  0.038322  0.032963  \n",
       "ElasticNet          0.026280  0.033560  0.030759  0.041560  0.039246  \n",
       "LogisticRegression  0.921013  0.921013  0.921013  0.921013  0.921013  \n",
       "LinearRegression    0.021963  0.034646  0.035120  0.037856  0.033024  "
      ]
     },
     "execution_count": 139,
     "metadata": {},
     "output_type": "execute_result"
    }
   ],
   "source": [
    "compare2=pd.DataFrame(all_cross_score_reg, index=all_model_name_reg)\n",
    "compare2"
   ]
  },
  {
   "cell_type": "code",
   "execution_count": 140,
   "metadata": {
    "scrolled": true
   },
   "outputs": [
    {
     "data": {
      "image/png": "[encoded data removed]",
      "text/plain": [
       "<Figure size 432x288 with 1 Axes>"
      ]
     },
     "metadata": {
      "needs_background": "light"
     },
     "output_type": "display_data"
    }
   ],
   "source": [
    "for i in range(10):\n",
    "    plt.plot(compare2[i], compare2.index)\n",
    "plt.xlim()\n",
    "plt.show()"
   ]
  },
  {
   "cell_type": "code",
   "execution_count": 148,
   "metadata": {},
   "outputs": [],
   "source": [
    "all_model_name_real=all_model_name+all_model_name_reg+['LinearRegression(PCA)', 'LinearRegression(PLS)']\n",
    "all_accuracy_score_real=all_accuracy_score+all_accuracy_score_reg+[0.658906, 0.663848]\n",
    "all_precision_score_real=all_precision_score+all_precision_score_reg+[0.148514, 0.150657]"
   ]
  },
  {
   "cell_type": "code",
   "execution_count": 149,
   "metadata": {},
   "outputs": [],
   "source": [
    "df=pd.DataFrame({'model':all_model_name_real,\n",
    "                'accuracy_score': all_accuracy_score_real,\n",
    "                'precision_score': all_precision_score_real})"
   ]
  },
  {
   "cell_type": "code",
   "execution_count": 150,
   "metadata": {
    "scrolled": true
   },
   "outputs": [
    {
     "data": {
      "text/html": [
       "<div>\n",
       "<style scoped>\n",
       "    .dataframe tbody tr th:only-of-type {\n",
       "        vertical-align: middle;\n",
       "    }\n",
       "\n",
       "    .dataframe tbody tr th {\n",
       "        vertical-align: top;\n",
       "    }\n",
       "\n",
       "    .dataframe thead th {\n",
       "        text-align: right;\n",
       "    }\n",
       "</style>\n",
       "<table border=\"1\" class=\"dataframe\">\n",
       "  <thead>\n",
       "    <tr style=\"text-align: right;\">\n",
       "      <th></th>\n",
       "      <th>model</th>\n",
       "      <th>accuracy_score</th>\n",
       "      <th>precision_score</th>\n",
       "      <th>total</th>\n",
       "    </tr>\n",
       "  </thead>\n",
       "  <tbody>\n",
       "    <tr>\n",
       "      <th>0</th>\n",
       "      <td>DecisionTreeClassifier</td>\n",
       "      <td>0.923214</td>\n",
       "      <td>0.600000</td>\n",
       "      <td>1.523214</td>\n",
       "    </tr>\n",
       "    <tr>\n",
       "      <th>1</th>\n",
       "      <td>RandomForestClassifier</td>\n",
       "      <td>0.923810</td>\n",
       "      <td>0.727273</td>\n",
       "      <td>1.651082</td>\n",
       "    </tr>\n",
       "    <tr>\n",
       "      <th>2</th>\n",
       "      <td>BaggingClassifier</td>\n",
       "      <td>0.919048</td>\n",
       "      <td>0.428571</td>\n",
       "      <td>1.347619</td>\n",
       "    </tr>\n",
       "    <tr>\n",
       "      <th>3</th>\n",
       "      <td>KNeighborsClassifier</td>\n",
       "      <td>0.914881</td>\n",
       "      <td>0.083333</td>\n",
       "      <td>0.998214</td>\n",
       "    </tr>\n",
       "    <tr>\n",
       "      <th>4</th>\n",
       "      <td>AdaBoostClassifier</td>\n",
       "      <td>0.922024</td>\n",
       "      <td>0.562500</td>\n",
       "      <td>1.484524</td>\n",
       "    </tr>\n",
       "    <tr>\n",
       "      <th>5</th>\n",
       "      <td>SVC</td>\n",
       "      <td>0.920833</td>\n",
       "      <td>0.000000</td>\n",
       "      <td>0.920833</td>\n",
       "    </tr>\n",
       "    <tr>\n",
       "      <th>6</th>\n",
       "      <td>Perceptron</td>\n",
       "      <td>0.920833</td>\n",
       "      <td>0.000000</td>\n",
       "      <td>0.920833</td>\n",
       "    </tr>\n",
       "    <tr>\n",
       "      <th>7</th>\n",
       "      <td>Lasso</td>\n",
       "      <td>0.505952</td>\n",
       "      <td>0.131217</td>\n",
       "      <td>0.637169</td>\n",
       "    </tr>\n",
       "    <tr>\n",
       "      <th>8</th>\n",
       "      <td>Ridge</td>\n",
       "      <td>0.547619</td>\n",
       "      <td>0.136732</td>\n",
       "      <td>0.684351</td>\n",
       "    </tr>\n",
       "    <tr>\n",
       "      <th>9</th>\n",
       "      <td>ElasticNet</td>\n",
       "      <td>0.586905</td>\n",
       "      <td>0.142675</td>\n",
       "      <td>0.729580</td>\n",
       "    </tr>\n",
       "    <tr>\n",
       "      <th>10</th>\n",
       "      <td>LogisticRegression</td>\n",
       "      <td>0.920833</td>\n",
       "      <td>0.000000</td>\n",
       "      <td>0.920833</td>\n",
       "    </tr>\n",
       "    <tr>\n",
       "      <th>11</th>\n",
       "      <td>LinearRegression</td>\n",
       "      <td>0.547024</td>\n",
       "      <td>0.136574</td>\n",
       "      <td>0.683598</td>\n",
       "    </tr>\n",
       "    <tr>\n",
       "      <th>12</th>\n",
       "      <td>LinearRegression(PCA)</td>\n",
       "      <td>0.658906</td>\n",
       "      <td>0.148514</td>\n",
       "      <td>0.807420</td>\n",
       "    </tr>\n",
       "    <tr>\n",
       "      <th>13</th>\n",
       "      <td>LinearRegression(PLS)</td>\n",
       "      <td>0.663848</td>\n",
       "      <td>0.150657</td>\n",
       "      <td>0.814505</td>\n",
       "    </tr>\n",
       "  </tbody>\n",
       "</table>\n",
       "</div>"
      ],
      "text/plain": [
       "                     model  accuracy_score  precision_score     total\n",
       "0   DecisionTreeClassifier        0.923214         0.600000  1.523214\n",
       "1   RandomForestClassifier        0.923810         0.727273  1.651082\n",
       "2        BaggingClassifier        0.919048         0.428571  1.347619\n",
       "3     KNeighborsClassifier        0.914881         0.083333  0.998214\n",
       "4       AdaBoostClassifier        0.922024         0.562500  1.484524\n",
       "5                      SVC        0.920833         0.000000  0.920833\n",
       "6               Perceptron        0.920833         0.000000  0.920833\n",
       "7                    Lasso        0.505952         0.131217  0.637169\n",
       "8                    Ridge        0.547619         0.136732  0.684351\n",
       "9               ElasticNet        0.586905         0.142675  0.729580\n",
       "10      LogisticRegression        0.920833         0.000000  0.920833\n",
       "11        LinearRegression        0.547024         0.136574  0.683598\n",
       "12   LinearRegression(PCA)        0.658906         0.148514  0.807420\n",
       "13   LinearRegression(PLS)        0.663848         0.150657  0.814505"
      ]
     },
     "execution_count": 150,
     "metadata": {},
     "output_type": "execute_result"
    }
   ],
   "source": [
    "df\n",
    "df['total']=df['accuracy_score']+df['precision_score']\n",
    "df"
   ]
  },
  {
   "cell_type": "code",
   "execution_count": 151,
   "metadata": {
    "scrolled": false
   },
   "outputs": [
    {
     "data": {
      "text/plain": [
       "<matplotlib.axes._subplots.AxesSubplot at 0x28fa393cc18>"
      ]
     },
     "execution_count": 151,
     "metadata": {},
     "output_type": "execute_result"
    },
    {
     "data": {
      "image/png": "[encoded data removed]",
      "text/plain": [
       "<Figure size 432x288 with 1 Axes>"
      ]
     },
     "metadata": {
      "needs_background": "light"
     },
     "output_type": "display_data"
    }
   ],
   "source": [
    "sns.barplot(x='accuracy_score', y='model', data=df)"
   ]
  },
  {
   "cell_type": "code",
   "execution_count": 152,
   "metadata": {
    "scrolled": false
   },
   "outputs": [
    {
     "data": {
      "text/plain": [
       "<matplotlib.axes._subplots.AxesSubplot at 0x28fa3bac048>"
      ]
     },
     "execution_count": 152,
     "metadata": {},
     "output_type": "execute_result"
    },
    {
     "data": {
      "image/png": "[encoded data removed]",
      "text/plain": [
       "<Figure size 432x288 with 1 Axes>"
      ]
     },
     "metadata": {
      "needs_background": "light"
     },
     "output_type": "display_data"
    }
   ],
   "source": [
    "sns.barplot(x='precision_score', y='model', data=df)"
   ]
  },
  {
   "cell_type": "code",
   "execution_count": 153,
   "metadata": {
    "scrolled": true
   },
   "outputs": [
    {
     "data": {
      "text/plain": [
       "<matplotlib.axes._subplots.AxesSubplot at 0x28fa3a47320>"
      ]
     },
     "execution_count": 153,
     "metadata": {},
     "output_type": "execute_result"
    },
    {
     "data": {
      "image/png": "[encoded data removed]",
      "text/plain": [
       "<Figure size 432x288 with 1 Axes>"
      ]
     },
     "metadata": {
      "needs_background": "light"
     },
     "output_type": "display_data"
    }
   ],
   "source": [
    "sns.barplot(x='total', y='model', data=df)"
   ]
  },
  {
   "cell_type": "code",
   "execution_count": null,
   "metadata": {},
   "outputs": [],
   "source": []
  }
 ],
 "metadata": {
  "kernelspec": {
   "display_name": "Python 3",
   "language": "python",
   "name": "python3"
  },
  "language_info": {
   "codemirror_mode": {
    "name": "ipython",
    "version": 3
   },
   "file_extension": ".py",
   "mimetype": "text/x-python",
   "name": "python",
   "nbconvert_exporter": "python",
   "pygments_lexer": "ipython3",
   "version": "3.7.1"
  }
 },
 "nbformat": 4,
 "nbformat_minor": 2
}
